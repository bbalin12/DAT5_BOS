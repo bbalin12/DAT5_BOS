{
 "metadata": {
  "name": "",
  "signature": "sha256:95d6a9106474d4c179606d3a1bb3604ba86fe8223e713a5364fce35101f92acb"
 },
 "nbformat": 3,
 "nbformat_minor": 0,
 "worksheets": [
  {
   "cells": [
    {
     "cell_type": "markdown",
     "metadata": {},
     "source": [
      "#Latent Semantic Indexing (LSI)  \n",
      "LSI is a specific application of dimensionality reduction to the problem of unstructured text processing.\n",
      "  \n",
      "At it's core LSI uses a simple Singular Value Decomposition (SVD) on a term-document matrix to perform the dimensionality reduction and map all documents and terms into one shared feature space.  This allows for pairwise conceptual comparison (by simple cosine similarity) of any documents or terms (term-term, term-document, document-document).  The higher the cosine similarity between two terms (or documents), the closer they are in terms of semantic or conceptual meaning.  \n",
      "  \n",
      "While the dimensionality reduction idea and term frequency vectors are not new, in it's 26 years of existence LSI has added considerable tradecraft making it (in this author's opinion) the state of the art technique for unstructured text analytics.  "
     ]
    },
    {
     "cell_type": "markdown",
     "metadata": {},
     "source": [
      "##Building an LSI Space\n",
      "What does it mean to \"build an LSI space\"?  This means you've completed the mapping that allows you to represent all documents and terms in the same k-dimensional vector space (where k is chosen).  Importantly, the space is built in such a way that the distance between any term/document vectors represents some measure of the conceptual (\"semantic\") similarity between them.  \n",
      "  \n",
      "The main steps to building an LSI space are:  \n",
      "<ol>\n",
      "<li>Procure the Data</li>\n",
      "<li>Build Term-Document Matrix</li>\n",
      "<li>Compute SVD</li>\n",
      "<li>Retain Term and Document Vectors</li>\n",
      "</ol>"
     ]
    },
    {
     "cell_type": "markdown",
     "metadata": {},
     "source": [
      "###Procure the Data\n",
      "The input data to LSI is as simple as can be.  It just requires a set of documents containing unstructured text.  \n",
      "#####Download the Reuters Data\n",
      "Download the R52 sample of the Reuters 21578 dataset from [here](http://www.csmining.org/index.php/r52-and-r8-of-reuters-21578.html) and store it locally.  \n",
      "  \n",
      "Use pandas to read in the dataset r52-train-stemmed dataset into a dataframe called df with the field names 'cat' and 'text'."
     ]
    },
    {
     "cell_type": "code",
     "collapsed": false,
     "input": [
      "#Import usual pandas and numpy\n",
      "\n",
      "# Read in r52 training set with stemming already done for you.\n",
      "\n",
      "# Use head to check out the first few rows of the dataset\n"
     ],
     "language": "python",
     "metadata": {},
     "outputs": [],
     "prompt_number": 2
    },
    {
     "cell_type": "code",
     "collapsed": false,
     "input": [
      "# We're not concerned with the category for now, so select out only the text column into a Series object 'docs'\n",
      "\n",
      "# Use head to check out the first few rows of docs\n"
     ],
     "language": "python",
     "metadata": {},
     "outputs": [],
     "prompt_number": 3
    },
    {
     "cell_type": "code",
     "collapsed": false,
     "input": [
      "# Let's load the nltk English stopwords list to ignore those in our analysis\n",
      "import nltk\n",
      "from nltk.corpus import stopwords\n",
      "## Download various nltk corpora (used for stopwords here)\n",
      "nltk.download()\n",
      "## Print all english stopwords\n",
      "stopwords = stopwords.words('english')"
     ],
     "language": "python",
     "metadata": {},
     "outputs": [
      {
       "output_type": "stream",
       "stream": "stdout",
       "text": [
        "showing info http://nltk.github.com/nltk_data/\n"
       ]
      }
     ],
     "prompt_number": 4
    },
    {
     "cell_type": "markdown",
     "metadata": {},
     "source": [
      "###Build Term-Document Matrix (TDM)\n",
      "In this step the goal is to encode all of the documents into a matrix where all of the unique terms in the dataset occur along the rows and the documents are the columns.  The values in each entry are some function of the term frequency for that particular term-document intersection.  \n",
      "\n",
      "There are a variety of different \"weightings\" that can be applied to the TDM entries, and this is one place where much of the tradecraft improvements of LSI occur.  The overall weighting scheme is generally TFIDF (Term Frequency Inverse Document Frequency) where the total weight is the product of the term frequency and inverse document frequency components:  \n",
      "\\begin{align} w_{ij} = wtf_{ij} \\cdot widf_i \\end{align}\n",
      "\n",
      "There are a handful of different term frequency (tf) weighting schemes ranging from binary (1/0 for whether a term occurred or not in the given document), to the actual frequency (count) or the log of the frequency.  For LSI, empirical results have led to the most common tf weighting of:  \n",
      "\\begin{align} wtf_{ij} = log(tf_{ij} + 1) \\end{align}  \n",
      "\n",
      "Similarly there are a handful of different global weighting (idf) schemes ranging from binary to logarithmic to an entropy function that has empirically been found best for LSI:  \n",
      "\\begin{align} widf_{i} = 1 - \\sum_j \\frac{p_{ij}log(p_{ij})}{log(n)} \\end{align}  \n",
      "\n",
      "In the above equation, $n$ is the number of documents, and $p_{ij}$ is the term frequency for a given document divided by the term's global frequency:  \n",
      "\\begin{align} p_{ij} = \\frac{tf_{ij}}{gtf_i} \\end{align}\n",
      "\n",
      "Given all this, the total weight for each entry is:\n",
      "\\begin{align} w_{ij} = wtf_{ij} \\cdot widf_i = log(tf_{ij} + 1) \\cdot \\left(1 - \\sum_j \\frac{p_{ij}log(p_{ij})}{log(n)}\\right) \\end{align}\n",
      "\n",
      "More details on all the different weightings can be found [here](http://en.wikipedia.org/wiki/Latent_semantic_indexing#Mathematics_of_LSI).\n",
      "\n",
      "#####Implement TDM Generator\n",
      "Let's implement a function that takes a Series of documents and generates the matrix with the LSI weightings from above..."
     ]
    },
    {
     "cell_type": "code",
     "collapsed": false,
     "input": [
      "'''\n",
      "The way we're going to attack this is to build out the TDM matrix with the documents as rows and terms as columns\n",
      "and then we'll call the transpose operator to flip it to the representation we need for LSI.\n",
      "\n",
      "We need the following:\n",
      "    1.  Dictionary of word --> index to define vectors (index for each term)\n",
      "    2.  Dictionary of word --> total count to get the global (IDF)\n",
      "    3.  Dictionary of word --> document count for each document to get the local (TF) weighting\n",
      "'''\n",
      "\n",
      "# Implement a function that returns the 3 dictionaries that we need above\n",
      "def find_frequencies(docs):\n",
      "    term_indices = {} ## This is #1 above\n",
      "    currentIndex = 0 ## This is the counter to make sure we correctly populate the term indices in order\n",
      "    corpus_bag = {} ## This is #2 above\n",
      "    doc_bags = [] ## This is the collection for #3 above\n",
      "    for i, doc in iteritems(docs):\n",
      "        doc_bag = {} ## This is the dictionary of term frequencies for the doc we're currently examining, doc_bags stores a collection of these\n",
      "        ## TODO: Tokenize each document with nltk\n",
      "        ## TODO: For each token in the current document:\n",
      "            ## Optionally ignore stopword and continue\n",
      "            ## If the word is new (not in term_indices): \n",
      "                ## add it to term_indices and give it the index value currentIndex, increment currentIndex\n",
      "                ## add it to the corpus_bag with count 1\n",
      "                ## add it to the current doc_bag with count 1\n",
      "            ## If the word is not new:\n",
      "                ## increment the corpus_bag counter\n",
      "                ## If the word is already in the doc_bag, increment that counter, else set it to 1\n",
      "        doc_bags.append(doc_bag)\n",
      "    return term_indices, corpus_bag, doc_bags\n"
     ],
     "language": "python",
     "metadata": {},
     "outputs": []
    },
    {
     "cell_type": "markdown",
     "metadata": {},
     "source": [
      "Run find_frequencies on docs to return term_indices, corpus_bag, doc_bags"
     ]
    },
    {
     "cell_type": "code",
     "collapsed": false,
     "input": [],
     "language": "python",
     "metadata": {},
     "outputs": []
    },
    {
     "cell_type": "markdown",
     "metadata": {},
     "source": [
      "Print out the length of term_indices and make sure it is 16144.  Print out term_indices['cocoa'] and make sure it's an int 0-16143"
     ]
    },
    {
     "cell_type": "code",
     "collapsed": false,
     "input": [],
     "language": "python",
     "metadata": {},
     "outputs": []
    },
    {
     "cell_type": "markdown",
     "metadata": {},
     "source": [
      "Print out the length of corpus_bag and make sure it is 16144.  Print out corpus_bag['cocoa'] and make sure it's 266"
     ]
    },
    {
     "cell_type": "code",
     "collapsed": false,
     "input": [],
     "language": "python",
     "metadata": {},
     "outputs": []
    },
    {
     "cell_type": "markdown",
     "metadata": {},
     "source": [
      "Print out the length of doc_bags[0] and make sure it's approximately the length of that document"
     ]
    },
    {
     "cell_type": "code",
     "collapsed": false,
     "input": [],
     "language": "python",
     "metadata": {},
     "outputs": []
    },
    {
     "cell_type": "code",
     "collapsed": false,
     "input": [
      "## Useful imports\n",
      "import math\n",
      "import scipy\n",
      "from scipy import linalg"
     ],
     "language": "python",
     "metadata": {},
     "outputs": [],
     "prompt_number": 12
    },
    {
     "cell_type": "code",
     "collapsed": false,
     "input": [
      "## Implement a function that uses the corpus_bag and doc_bags found above to compute the global weighting (idf) term\n",
      "def compute_global_weight(corpus_bag, doc_bags):\n",
      "    global_weights = {} ## A dictionary of term --> global weight (the idf components) using entropy weighting\n",
      "    ## TODO: Define a variable logn which is the log base 2 of the number of documents in the set\n",
      "    ## TODO: For each term:\n",
      "        ## Start the global weight at 1\n",
      "        ## Compute the global count from corpus_bag\n",
      "        ## For each doc_bag:\n",
      "            ## If the term is in it, calculate p_ij and decrease the global weight by p_ij * log(p_ij) / logn\n",
      "        ## Add this term's global weight to your global_weights dict\n",
      "    return global_weights"
     ],
     "language": "python",
     "metadata": {},
     "outputs": []
    },
    {
     "cell_type": "markdown",
     "metadata": {},
     "source": [
      "Run compute_global_weight on corpus_bag and doc_bags to generate global_weights"
     ]
    },
    {
     "cell_type": "code",
     "collapsed": false,
     "input": [],
     "language": "python",
     "metadata": {},
     "outputs": []
    },
    {
     "cell_type": "markdown",
     "metadata": {},
     "source": [
      "Print global_weights['cocoa'] and make sure it's 1.40575036748"
     ]
    },
    {
     "cell_type": "code",
     "collapsed": false,
     "input": [],
     "language": "python",
     "metadata": {},
     "outputs": []
    },
    {
     "cell_type": "code",
     "collapsed": false,
     "input": [
      "## Finish the job with a function build_TDM that takes a Series 'docs' and outputs the TDM (a numpy matrix), make it also \n",
      "## return the term_indices and global weights as well\n",
      "def build_TDM(docs):\n",
      "    ## TODO: Use your first 2 functions from above to populate the term_indices, corpus_bag, doc_bags and global_weights\n",
      "    ## TODO: For each doc_bag, generate a doc_vec and add to doc_vecs (these are the \"vectors\" for each document with weighting)\n",
      "    doc_vecs = []\n",
      "    for doc_bag in doc_bags:\n",
      "        ## TODO: Initialize 'doc_vec' as a list of zeroes with 1 entry per unique term\n",
      "        ## TODO: For each term in the doc_bag, add the appropriate value into the appropriate place in the doc_vec\n",
      "        ## NOTE: Need to take advantage of term_indices to get the right index, global_weights and doc_bag to get the value\n",
      "        ## TODO: Add the newest doc_vec to doc_vecs\n",
      "    ## TODO: Generate a numpy matrix from doc_vecs, and take it's transpose to give the TDM, return that\n",
      "    return term_indices, global_weights, tdmatrix"
     ],
     "language": "python",
     "metadata": {},
     "outputs": [],
     "prompt_number": 8
    },
    {
     "cell_type": "markdown",
     "metadata": {},
     "source": [
      "Now use your build_TDM function on the docs you defined to generate a matrix called 'tdmatrix'"
     ]
    },
    {
     "cell_type": "code",
     "collapsed": false,
     "input": [],
     "language": "python",
     "metadata": {},
     "outputs": [],
     "prompt_number": 0
    },
    {
     "cell_type": "markdown",
     "metadata": {},
     "source": [
      "###Compute SVD\n",
      "Once we have the TDM, the next step is the SVD.  The SVD performs the following decomposition:\n",
      "\\begin{align} X = T\\Sigma{D^T} \\end{align}\n",
      "Here $X$ is the TDM, which is a matrix of $m$ terms by $n$ documents.  $T$ is the resultant term space, it has a row for each of the $m$ terms and $r$ column features where $r$ is the <a href='http://en.wikipedia.org/wiki/Rank_(linear_algebra)'>rank</a> of $X$.  $\\Sigma$ is the square diagonal matrix of the $r$ [singular values](http://en.wikipedia.org/wiki/Singular_value) of $X$ in decreasing order.  The final matrix is the transpose of the resulting \"document space\" so it will be $r$ by $n$ where each column represents a document described by $r$ features.\n",
      "\n",
      "##### Try it out\n",
      "Use the linalg svd function with tdmatrix to perform the svd."
     ]
    },
    {
     "cell_type": "code",
     "collapsed": false,
     "input": [
      "## Run the svd to yield the full term and document space matrices\n",
      "## WARNING: This is the computationally intensive step, it will take a long time, so make sure you've taken care of everything before\n",
      "## this as best as possible so you don't have to do it multiple times\n",
      "## Once this step is completed, essentially all the computational work is done, you have a trained LSI space!"
     ],
     "language": "python",
     "metadata": {},
     "outputs": []
    },
    {
     "cell_type": "markdown",
     "metadata": {},
     "source": [
      "####Reduce the Dimensionality: Rank Reduction\n",
      "At this point, we haven't really reduced the dimensionality of the problem (all terms and documents have $r$ features where $r$ is probably larger than we want to deal with).  So we make the following approximation:\n",
      "\\begin{align} X \\approx T_k\\Sigma_kD_k^T \\end{align}\n",
      "Here the first $k$ columns (where $k$ is a chosen parameter) have been selected from the $T$ matrix to yield the $m$ by $k$ matrix $T_k$.  The singular value matrix has been shrunk to $k$ by $k$ by removing any of the rows or columns greater than $k$.  The $D^T$ matrix has been truncated to $k$ by $n$ by selecting just the first $k$ rows of the matrix.\n",
      "\n",
      "The mathematics of the SVD tell us that this approximation is the best possible rank $k$ approximation to $X$ that we can possibly make.  Thus, by then using those matrices we have performed dimensionality reduction to $k$ dimensions.\n",
      "\n",
      "##### Try it Out\n",
      "Generate 3 matrices, T_k, D_trans_k, and sigma_inv_k by performing the rank-reduction approximation."
     ]
    },
    {
     "cell_type": "code",
     "collapsed": false,
     "input": [
      "## TODO: Truncate the resulting matrices to dimension k (you select this dimension, higher values retain more information at complexity cost)\n",
      "# The reason for inverting the sigma matrix should be clear later, when trying to fold in documents\n",
      "sigma_inv = np.linalg.inv(linalg.diagsvd(sigma, n, n))\n",
      "sigma_inv_k = sigma_inv[0:k, 0:k]\n",
      "print sigma_inv_k.shape"
     ],
     "language": "python",
     "metadata": {},
     "outputs": [
      {
       "output_type": "stream",
       "stream": "stdout",
       "text": [
        "(16144, 100)\n",
        "(100, 6532)\n",
        "(100, 100)"
       ]
      },
      {
       "output_type": "stream",
       "stream": "stdout",
       "text": [
        "\n"
       ]
      }
     ],
     "prompt_number": 11
    },
    {
     "cell_type": "markdown",
     "metadata": {},
     "source": [
      "###Comparing Term and Document Vectors\n",
      "At this point, any of the terms can be plucked from the rows of the k-dimensional $T_k$ matrix and compared to one another for conceptual similarity.  Similarly, the same can be done for any document to document comparisons via the columns of the $D_k^T$ matrix.  \n",
      "\n",
      "####Folding Document Vectors\n",
      "However, the one aspect that is missing is the ability to make comparisons between the two, aka we want to map the documents into the term space so that we can compare terms to documents.  The transformation that does this is:\n",
      "\\begin{align} D_k = X^TT_k\\Sigma_k^{-1} \\end{align}\n",
      "\n",
      "What this means, is that given any new document vector $d$ we can \"fold it in\" to the feature space by giving the vector the appropriate weightings (TFIDF) in the X space and then multiplying it by the matrices $T_k$ and $\\Sigma_k^{-1}$.\n",
      "\n",
      "#####Try it out:\n",
      "Implement a function fold_doc that takes a blob of text 'doc_text', term_indices, global_weights, T_k, and sigma_inv_k and returns a k dimension vector in the shared term-document space via document folding."
     ]
    },
    {
     "cell_type": "code",
     "collapsed": false,
     "input": [
      "## Function that folds a new document into an existing LSI space (space designated by global weightings, term indices, and T_k and sigma_inv_k)\n",
      "def fold_doc(doc_text, term_indices, global_weights, T_k, sigma_inv_k):\n",
      "    ## TODO: Fill out a doc_bag for the input doc_text (as previously done, tokenize, then build up a dictionary of word --> count)\n",
      "    doc_bag = {}\n",
      "    ## TODO: Generate an m-dimensional vector x_vec of zeroes that will eventually represent the document in the X space\n",
      "    ## TODO: Step through doc_bag and apply the appropriate local and global weightings and update the entry in x_vec\n",
      "    ## TODO: Conver x_vec to a numpy matrix x\n",
      "    # Perform the desired transformation to return folded vec\n",
      "    folded_vec = np.dot(np.dot(a, T_k), sigma_inv_k)\n",
      "    return folded_vec"
     ],
     "language": "python",
     "metadata": {},
     "outputs": [],
     "prompt_number": 12
    },
    {
     "cell_type": "markdown",
     "metadata": {},
     "source": [
      "####Cosine Similarity\n",
      "The way we will compare vectors in our LSI space is via [cosine similarity](http://en.wikipedia.org/wiki/Cosine_similarity).  The equation for it is as follows:\n",
      "\\begin{align} \\cos {(a,b)} = \\frac{a \\cdot b}{\\|{A}\\|\\|{B}\\|} \\end{align}\n",
      "\n",
      "Essentially, it is the normalized dot (scalar) product between 2 vectors.  This is the defacto standard for distance metric in LSI.\n",
      "\n",
      "#####Try it out\n",
      "Write a function cosine_sim that takes 2 vectors and returns their cosine similarity score"
     ]
    },
    {
     "cell_type": "code",
     "collapsed": false,
     "input": [],
     "language": "python",
     "metadata": {},
     "outputs": []
    },
    {
     "cell_type": "markdown",
     "metadata": {},
     "source": [
      "Try out your function with the first few Reuters documents"
     ]
    },
    {
     "cell_type": "code",
     "collapsed": false,
     "input": [
      "## TODO: Fold each document into the space, and then compare them with cosine_sim"
     ],
     "language": "python",
     "metadata": {},
     "outputs": []
    },
    {
     "cell_type": "markdown",
     "metadata": {},
     "source": [
      "## Reuters Document Categorization with LSI\n",
      "Now that we've built our LSI space and we know how to fold in new documents into the space, we can try to perform the Reuters text categorization task.  Our approach will be a simple one, yet perform surprisingly well.  We will simply take the test set and for each document find the closest (by cosine similarity) document to it in the training set, then assign the test document to that training document's assigned category.   \n",
      "\n",
      "This is a simple manual KNN classifier, with k=1 and cosine similarity as a distance metric.  We can of course try different metrics and values of k if you like.\n",
      "\n",
      "##### Try it out\n",
      "Build a function classify_docs that takes a dataframe of documents with columns 'cat' and 'text' and our LSI Space components and does the following:\n",
      "<ul>\n",
      "<li>Prints the actual category and the predicted category for each document</li>\n",
      "<li>Prints the total docs tested</li>\n",
      "<li>Prints the total docs correct</li>\n",
      "<li>Prints the overall accuracy of prediction</li>\n",
      "</ul>"
     ]
    },
    {
     "cell_type": "code",
     "collapsed": false,
     "input": [
      "## Fold in incoming documents into the space and categorize them\n",
      "def classify_docs(df_test, term_indices, global_weights, T_k, sigma_inv_k):\n",
      "    ## TODO: iterate through the rows of df_test using iterrows\n",
      "        ## TODO: Retrive the actual cat and test for each row\n",
      "        ## TODO: Fold the test document into the space to give it a vector\n",
      "        ## TODO: Compare the resultant vectors via cosine similarity and give each test document the category \n",
      "        ## of the training document closest to it.  Print out the right and predicted categories.  Keep track of right/wrong\n",
      "    ## TODO: Print out the summary results\n",
      "    return"
     ],
     "language": "python",
     "metadata": {},
     "outputs": [],
     "prompt_number": 1
    },
    {
     "cell_type": "markdown",
     "metadata": {},
     "source": [
      "Load the R52 Stemmed Test set into a dataframe and try out the categorization."
     ]
    },
    {
     "cell_type": "code",
     "collapsed": false,
     "input": [],
     "language": "python",
     "metadata": {},
     "outputs": []
    },
    {
     "cell_type": "markdown",
     "metadata": {},
     "source": [
      "## Other Considerations, Extensions, and Applications\n",
      "###Entity Extraction\n",
      "###Stopword Selection\n",
      "###Punctuation\n",
      "###Stemming\n",
      "###Alternative Weighting Schemes\n",
      "###Optimal Dimensionality Selection\n",
      "###Full Feature Utilization\n",
      "###Multilingual Corpora\n",
      "####Language Identification\n",
      "###Generic Item-Feature Problems\n",
      "###Majority Folding\n",
      "###Term Folding\n",
      "####Term Folding + Document Folding\n",
      "###Clustering\n",
      "###Recommendation"
     ]
    }
   ],
   "metadata": {}
  }
 ]
}